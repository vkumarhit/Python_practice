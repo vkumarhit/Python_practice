{
 "cells": [
  {
   "cell_type": "code",
   "execution_count": 5,
   "id": "39ae8479",
   "metadata": {},
   "outputs": [
    {
     "name": "stdout",
     "output_type": "stream",
     "text": [
      "[75, 18, 23, 54, 24]\n"
     ]
    }
   ],
   "source": [
    "def swap(list):\n",
    "    list[0],list[-1]=list[-1],list[0]\n",
    "    return list\n",
    "list=[24,18,23,54,75]\n",
    "print (swap(list))\n",
    "#print a program to swap the first & last position in a list"
   ]
  },
  {
   "cell_type": "code",
   "execution_count": 9,
   "id": "a9f83fa0",
   "metadata": {},
   "outputs": [
    {
     "name": "stdout",
     "output_type": "stream",
     "text": [
      "[65, 12, 34, 65, 98, 10]\n"
     ]
    }
   ],
   "source": [
    "def swap(list):\n",
    "    start,*middle,end=list\n",
    "    list=[end,*middle,start]\n",
    "    return list\n",
    "list=[10,12,34,65,98,65]\n",
    "print (swap(list))\n",
    "#print a program to swap the first & last position in a list"
   ]
  },
  {
   "cell_type": "code",
   "execution_count": 12,
   "id": "00d92420",
   "metadata": {},
   "outputs": [
    {
     "name": "stdout",
     "output_type": "stream",
     "text": [
      "[8, 9, 5, 6, 7, 2]\n"
     ]
    }
   ],
   "source": [
    "#program to swap two elements in a list\n",
    "def swap(list,pos1,pos2):\n",
    "    temp=list[pos1]\n",
    "    list[pos1]=list[pos2]\n",
    "    list[pos2]=temp\n",
    "    return list\n",
    "list=[8,6,5,9,7,2]\n",
    "pos1,pos2=2,4\n",
    "print (swap(list,pos1-1,pos2-1))"
   ]
  },
  {
   "cell_type": "code",
   "execution_count": 14,
   "id": "4af5672a",
   "metadata": {},
   "outputs": [
    {
     "name": "stdout",
     "output_type": "stream",
     "text": [
      "[5, 6, 8, 9, 7, 2]\n"
     ]
    }
   ],
   "source": [
    "#program to swap two elements in a list\n",
    "def swap(list,pos1,pos2):\n",
    "    list[pos1],list[pos2]=list[pos2],list[pos1]\n",
    "    return list\n",
    "list=[8,6,5,9,7,2]\n",
    "pos1,pos2=1,3\n",
    "print (swap(list,pos1-1,pos2-1))\n"
   ]
  },
  {
   "cell_type": "code",
   "execution_count": 78,
   "id": "dc807b48",
   "metadata": {},
   "outputs": [
    {
     "name": "stdout",
     "output_type": "stream",
     "text": [
      "5\n",
      "Element Exists\n"
     ]
    }
   ],
   "source": [
    "#program to find if element exist or not\n",
    "list = [1, 6, 3, 5, 3, 4]\n",
    "n=int(input())\n",
    "if (n in list):\n",
    "    print(\"Element Exists\")\n",
    "else:\n",
    "    print('Element does not exist')"
   ]
  },
  {
   "cell_type": "code",
   "execution_count": 109,
   "id": "6347da0d",
   "metadata": {},
   "outputs": [
    {
     "name": "stdout",
     "output_type": "stream",
     "text": [
      "[]\n"
     ]
    }
   ],
   "source": [
    "#clear a list\n",
    "list=[2,5,8,9,3,6,7]\n",
    "del list[:]\n",
    "print(list)\n",
    "#del & clear both of them clears the list-------list.clear()\n",
    "#pop removes a particular item from the list-------list.pop()"
   ]
  },
  {
   "cell_type": "code",
   "execution_count": 115,
   "id": "999bfeb6",
   "metadata": {},
   "outputs": [
    {
     "name": "stdout",
     "output_type": "stream",
     "text": [
      "[9, 0, 7, 3, 5, 7, 2]\n"
     ]
    }
   ],
   "source": [
    "#reverse a list\n",
    "list=[2,7,5,3,7,0,9]\n",
    "a=print(list[::-1])"
   ]
  },
  {
   "cell_type": "code",
   "execution_count": 117,
   "id": "4abfff77",
   "metadata": {},
   "outputs": [
    {
     "name": "stdout",
     "output_type": "stream",
     "text": [
      "[2, 6, 4, 8, 9, 4, 8, 0]\n"
     ]
    }
   ],
   "source": [
    "#copy a list\n",
    "#cloning is the fastest method to copy which takes around 0.039 secs\n",
    "def cloning(list):\n",
    "    list_copy=list[:]\n",
    "    return list_copy\n",
    "list=[2,6,4,8,9,4,8,0]\n",
    "a=cloning(list)\n",
    "print(a)"
   ]
  },
  {
   "cell_type": "code",
   "execution_count": 449,
   "id": "96e28516",
   "metadata": {},
   "outputs": [
    {
     "name": "stdout",
     "output_type": "stream",
     "text": [
      "5\n"
     ]
    }
   ],
   "source": [
    "#count occurences of number in a list\n",
    "def occurences(list,x):\n",
    "    count=0\n",
    "    for i in list:\n",
    "        if (i == x):\n",
    "            count=count+1\n",
    "    return count\n",
    "l=[1,1,1,2,3,4,2,3,1,7,8,9,1,4,3]\n",
    "a=print(occurences(l,1))"
   ]
  },
  {
   "cell_type": "code",
   "execution_count": 1,
   "id": "dd0572a4",
   "metadata": {},
   "outputs": [
    {
     "name": "stdout",
     "output_type": "stream",
     "text": [
      "Element Count\n",
      "2    3\n",
      "1    2\n",
      "3    2\n",
      "4    2\n",
      "5    2\n",
      "dtype: int64\n"
     ]
    }
   ],
   "source": [
    "import pandas as pd\n",
    " \n",
    "# declaring the list\n",
    "l = [1, 1, 2, 2, 2, 3, 3, 4, 4, 5, 5]\n",
    " \n",
    "count = pd.Series(l).value_counts()\n",
    "print(\"Element Count\")\n",
    "print(count)"
   ]
  },
  {
   "cell_type": "code",
   "execution_count": 2,
   "id": "d6757732",
   "metadata": {},
   "outputs": [
    {
     "name": "stdout",
     "output_type": "stream",
     "text": [
      "sum =  46\n",
      "average =  5.75\n"
     ]
    }
   ],
   "source": [
    "# Python program to find the sum\n",
    "# and average of the list\n",
    "L = [4, 5, 1, 2, 9, 7, 10, 8]\n",
    "count = sum(L)  \n",
    "# finding average\n",
    "avg = count/len(L)\n",
    "print(\"sum = \", count)\n",
    "print(\"average = \", avg)"
   ]
  },
  {
   "cell_type": "code",
   "execution_count": 1,
   "id": "25708f8e",
   "metadata": {},
   "outputs": [
    {
     "name": "stdout",
     "output_type": "stream",
     "text": [
      "[0, 4, 8, 3, 7, 9, 1]\n"
     ]
    }
   ],
   "source": [
    "def swap(list):\n",
    "    list[0],list[-1]=list[-1],list[0]\n",
    "    return list\n",
    "l=[1,4,8,3,7,9,0]\n",
    "a=print(swap(l))"
   ]
  },
  {
   "cell_type": "code",
   "execution_count": 2,
   "id": "e05f74d8",
   "metadata": {},
   "outputs": [
    {
     "name": "stdout",
     "output_type": "stream",
     "text": [
      "[1, 7, 7, 8, 4, 2, 9, 0]\n"
     ]
    }
   ],
   "source": [
    "def swap(list,pos1,pos2):\n",
    "    temp=list[pos1]\n",
    "    list[pos1]=list[pos2]\n",
    "    list[pos2]=temp\n",
    "    return list\n",
    "l=[1,2,7,8,4,7,9,0]\n",
    "a=print(swap(l,1,5))"
   ]
  },
  {
   "cell_type": "code",
   "execution_count": 1,
   "id": "59e07273",
   "metadata": {},
   "outputs": [],
   "source": [
    "from turtle import *\n",
    "color(\"red\")\n",
    "begin_fill()\n",
    "pensize(3)\n",
    "left(50)\n",
    "forward(133)\n",
    "circle(50,200)\n",
    "right(140)\n",
    "circle(50,200)\n",
    "forward(133)\n",
    "end_fill()\n"
   ]
  },
  {
   "cell_type": "code",
   "execution_count": 450,
   "id": "44994e76",
   "metadata": {},
   "outputs": [
    {
     "name": "stdout",
     "output_type": "stream",
     "text": [
      "1\n"
     ]
    }
   ],
   "source": [
    "count = 0\n",
    "while (count < 1):    \n",
    "    count = count+1\n",
    "    print(count)\n",
    "    break\n",
    "else:\n",
    "    print(\"No Break\")\n",
    "    #else doesn't count after break in while same goes to for "
   ]
  },
  {
   "cell_type": "code",
   "execution_count": 451,
   "id": "eb2dafa2",
   "metadata": {},
   "outputs": [
    {
     "name": "stdout",
     "output_type": "stream",
     "text": [
      "Current Letter : g\n",
      "Current Letter : k\n",
      "Current Letter : f\n",
      "Current Letter : o\n",
      "Current Letter : r\n",
      "Current Letter : g\n",
      "Current Letter : k\n"
     ]
    }
   ],
   "source": [
    "# Prints all letters except 'e' and 's'\n",
    "for letter in 'geeksforgeeks': \n",
    "    if letter == 'e' or letter == 's':\n",
    "         continue\n",
    "    print ('Current Letter :', letter)\n",
    "    "
   ]
  },
  {
   "cell_type": "code",
   "execution_count": 18,
   "id": "4c1123b5",
   "metadata": {},
   "outputs": [
    {
     "name": "stdout",
     "output_type": "stream",
     "text": [
      "hello\n",
      "olleh"
     ]
    }
   ],
   "source": [
    "word=input()\n",
    "for i in reversed(word):\n",
    "    print (i,end=\"\")\n"
   ]
  },
  {
   "cell_type": "code",
   "execution_count": 24,
   "id": "3ca81280",
   "metadata": {},
   "outputs": [
    {
     "name": "stdout",
     "output_type": "stream",
     "text": [
      "hello\n",
      "o\n",
      "l\n",
      "l\n",
      "e\n",
      "h\n"
     ]
    }
   ],
   "source": [
    "word=input()\n",
    "for i in reversed(word):\n",
    "    print (i)"
   ]
  },
  {
   "cell_type": "code",
   "execution_count": 30,
   "id": "8508d876",
   "metadata": {},
   "outputs": [
    {
     "name": "stdout",
     "output_type": "stream",
     "text": [
      "['hello', 'my', 'name', 'is', 'Vivek']\n"
     ]
    }
   ],
   "source": [
    "# Point i to the last element in list\n",
    "\n",
    "List='hello my name is Vivek'\n",
    "wordList=[List.split()]\n",
    "i = len(wordList) - 1 \n",
    "# Iterate till 1st element and keep on decrementing i\n",
    "while i >= 0 :\n",
    "    print(wordList[i]) \n",
    "    i -= 1"
   ]
  },
  {
   "cell_type": "code",
   "execution_count": 39,
   "id": "7b64ed77",
   "metadata": {},
   "outputs": [],
   "source": [
    "def isNeighbour(N):\n",
    "    if(abs(10 - N % 10) <= 2 or abs(N % 10) <= 2):\n",
    "        return True\n",
    "    return False"
   ]
  },
  {
   "cell_type": "code",
   "execution_count": 5,
   "id": "a4b02d8a",
   "metadata": {},
   "outputs": [
    {
     "name": "stdout",
     "output_type": "stream",
     "text": [
      "4\n"
     ]
    }
   ],
   "source": [
    "def doge_count(str):\n",
    "    if(len(str) < 4):\n",
    "        return 0\n",
    "    count = 0\n",
    "    for i in range(0, len(str) - 3, 1):\n",
    "        if(str[i : i + 2] == \"do\" and str[i + 2] >= 'a' and str[ i + 2] <= 'z' and str[i + 3] == 'e'):\n",
    "            count += 1\n",
    "    return count\n",
    "str='dogedoaedopedoredoe'\n",
    "print(doge_count(str))\n",
    "##Program to get 4 matching words with 3rd letter as arbitrary word\n",
    "##like doge,dope,dose,dore,dobe"
   ]
  },
  {
   "cell_type": "code",
   "execution_count": 455,
   "id": "54ed7843",
   "metadata": {},
   "outputs": [],
   "source": [
    "a = 10\n",
    "b = 20\n",
    "\n",
    "if(a):\n",
    "    pass\n",
    "else:\n",
    "    print(b)"
   ]
  },
  {
   "cell_type": "code",
   "execution_count": 16,
   "id": "b1a7b7b3",
   "metadata": {},
   "outputs": [
    {
     "name": "stdout",
     "output_type": "stream",
     "text": [
      "1668270076.3609002\n",
      "2022-11-11\n"
     ]
    }
   ],
   "source": [
    "\n",
    "from datetime import date\n",
    "import time\n",
    "print(time.time())\n",
    "print(date.fromtimestamp(1668269999.5152962-86400 ))"
   ]
  },
  {
   "cell_type": "code",
   "execution_count": 13,
   "id": "856a3a85",
   "metadata": {},
   "outputs": [
    {
     "name": "stdout",
     "output_type": "stream",
     "text": [
      "86400\n"
     ]
    }
   ],
   "source": [
    "print( 24*60*60)"
   ]
  },
  {
   "cell_type": "code",
   "execution_count": 154,
   "id": "1a131158",
   "metadata": {},
   "outputs": [
    {
     "name": "stdout",
     "output_type": "stream",
     "text": [
      "4.0\n",
      "24\n",
      "3.141592653589793\n",
      "-1.995200412208242\n",
      "1.6197751905438615\n",
      "1.0\n",
      "0.8939966636005579\n",
      "0.9999996829318346\n"
     ]
    },
    {
     "ename": "TypeError",
     "evalue": "'module' object is not callable",
     "output_type": "error",
     "traceback": [
      "\u001b[1;31m---------------------------------------------------------------------------\u001b[0m",
      "\u001b[1;31mTypeError\u001b[0m                                 Traceback (most recent call last)",
      "Cell \u001b[1;32mIn [154], line 11\u001b[0m\n\u001b[0;32m      9\u001b[0m \u001b[38;5;28mprint\u001b[39m(math\u001b[38;5;241m.\u001b[39msin(\u001b[38;5;241m1.57\u001b[39m))\n\u001b[0;32m     10\u001b[0m \u001b[38;5;28;01mimport\u001b[39;00m \u001b[38;5;21;01mdatetime\u001b[39;00m\n\u001b[1;32m---> 11\u001b[0m \u001b[38;5;28mprint\u001b[39m(\u001b[43mdatetime\u001b[49m\u001b[38;5;241;43m.\u001b[39;49m\u001b[43msys\u001b[49m\u001b[43m(\u001b[49m\u001b[38;5;241;43m1637843\u001b[39;49m\u001b[43m)\u001b[49m)\n",
      "\u001b[1;31mTypeError\u001b[0m: 'module' object is not callable"
     ]
    }
   ],
   "source": [
    "import math\n",
    "print(math.sqrt(16))\n",
    "print(math.factorial(4))\n",
    "print(math.pi)\n",
    "print(math.tan(90))\n",
    "print(math.tan(45))\n",
    "print(math.cos(0))\n",
    "print(math.sin(90))\n",
    "print(math.sin(1.57))\n",
    "\n",
    "      "
   ]
  },
  {
   "cell_type": "code",
   "execution_count": 157,
   "id": "d15132f1",
   "metadata": {},
   "outputs": [
    {
     "name": "stdout",
     "output_type": "stream",
     "text": [
      "4\n",
      "16\n",
      "0.3890810708055651\n",
      "4\n",
      "['__doc__', '__loader__', '__name__', '__package__', '__spec__', 'acos', 'acosh', 'asin', 'asinh', 'atan', 'atan2', 'atanh', 'ceil', 'comb', 'copysign', 'cos', 'cosh', 'degrees', 'dist', 'e', 'erf', 'erfc', 'exp', 'expm1', 'fabs', 'factorial', 'floor', 'fmod', 'frexp', 'fsum', 'gamma', 'gcd', 'hypot', 'inf', 'isclose', 'isfinite', 'isinf', 'isnan', 'isqrt', 'lcm', 'ldexp', 'lgamma', 'log', 'log10', 'log1p', 'log2', 'modf', 'nan', 'nextafter', 'perm', 'pi', 'pow', 'prod', 'radians', 'remainder', 'sin', 'sinh', 'sqrt', 'tan', 'tanh', 'tau', 'trunc', 'ulp']\n",
      "['MAXYEAR', 'MINYEAR', '__all__', '__builtins__', '__cached__', '__doc__', '__file__', '__loader__', '__name__', '__package__', '__spec__', 'date', 'datetime', 'datetime_CAPI', 'sys', 'time', 'timedelta', 'timezone', 'tzinfo']\n",
      "['BPF', 'LOG4', 'NV_MAGICCONST', 'RECIP_BPF', 'Random', 'SG_MAGICCONST', 'SystemRandom', 'TWOPI', '_ONE', '_Sequence', '_Set', '__all__', '__builtins__', '__cached__', '__doc__', '__file__', '__loader__', '__name__', '__package__', '__spec__', '_accumulate', '_acos', '_bisect', '_ceil', '_cos', '_e', '_exp', '_floor', '_index', '_inst', '_isfinite', '_log', '_os', '_pi', '_random', '_repeat', '_sha512', '_sin', '_sqrt', '_test', '_test_generator', '_urandom', '_warn', 'betavariate', 'choice', 'choices', 'expovariate', 'gammavariate', 'gauss', 'getrandbits', 'getstate', 'lognormvariate', 'normalvariate', 'paretovariate', 'randbytes', 'randint', 'random', 'randrange', 'sample', 'seed', 'setstate', 'shuffle', 'triangular', 'uniform', 'vonmisesvariate', 'weibullvariate']\n"
     ]
    },
    {
     "ename": "TypeError",
     "evalue": "'float' object is not callable",
     "output_type": "error",
     "traceback": [
      "\u001b[1;31m---------------------------------------------------------------------------\u001b[0m",
      "\u001b[1;31mTypeError\u001b[0m                                 Traceback (most recent call last)",
      "Cell \u001b[1;32mIn [157], line 12\u001b[0m\n\u001b[0;32m     10\u001b[0m \u001b[38;5;28mprint\u001b[39m(\u001b[38;5;28mdir\u001b[39m(random))\n\u001b[0;32m     11\u001b[0m \u001b[38;5;28;01mfrom\u001b[39;00m \u001b[38;5;21;01mrandom\u001b[39;00m \u001b[38;5;28;01mimport\u001b[39;00m SG_MAGICCONST\n\u001b[1;32m---> 12\u001b[0m \u001b[38;5;28mprint\u001b[39m(\u001b[43mSG_MAGICCONST\u001b[49m\u001b[43m(\u001b[49m\u001b[38;5;241;43m2\u001b[39;49m\u001b[43m,\u001b[49m\u001b[38;5;241;43m4\u001b[39;49m\u001b[43m)\u001b[49m)\n",
      "\u001b[1;31mTypeError\u001b[0m: 'float' object is not callable"
     ]
    }
   ],
   "source": [
    "import random\n",
    "list=[1,5,2,3,4,6]\n",
    "list2=[5,4]\n",
    "print(random.choice(list))\n",
    "print(random.randint(10,20))\n",
    "print(random.random())\n",
    "print(random.choice(list2))\n",
    "print(dir(math))\n",
    "print(dir(datetime))\n",
    "print(dir(random))\n",
    "from random import SG_MAGICCONST\n",
    "print(SG_MAGICCONST(2,4))"
   ]
  },
  {
   "cell_type": "code",
   "execution_count": 159,
   "id": "166de899",
   "metadata": {},
   "outputs": [
    {
     "name": "stdout",
     "output_type": "stream",
     "text": [
      "odd\n"
     ]
    }
   ],
   "source": [
    "def checkevenodd(x):\n",
    "    if (x % 2 == 0):\n",
    "        return 'even'\n",
    "    else:\n",
    "        return 'odd'\n",
    "print(checkevenodd(1))"
   ]
  },
  {
   "cell_type": "code",
   "execution_count": 162,
   "id": "bbaff194",
   "metadata": {},
   "outputs": [
    {
     "name": "stdout",
     "output_type": "stream",
     "text": [
      "\n",
      "Print String in order of Keywords: \n",
      "Life For Geeks\n",
      "\n",
      "Print String in Positional order: \n",
      "For Geeks Life\n"
     ]
    }
   ],
   "source": [
    "String1 = \"{l} {f} {g}\".format(g='Geeks', f='For', l='Life')\n",
    "print(\"\\nPrint String in order of Keywords: \")\n",
    "print(String1)\n",
    "#keyword formatting\n",
    "# Positional Formatting\n",
    "String1 = \"{1} {0} {2}\".format('Geeks', 'For', 'Life')\n",
    "print(\"\\nPrint String in Positional order: \")\n",
    "print(String1)"
   ]
  },
  {
   "cell_type": "code",
   "execution_count": 171,
   "id": "b5331f42",
   "metadata": {},
   "outputs": [
    {
     "name": "stdout",
     "output_type": "stream",
     "text": [
      "\n",
      "Binary representation of 16 is \n",
      "10000\n",
      "10000\n",
      "<class 'NoneType'>\n",
      "\n",
      "Exponent representation of 165.6458 is \n",
      "1.656458e+02\n",
      "\n",
      "one-sixth is : \n",
      "0.17\n"
     ]
    }
   ],
   "source": [
    "# Formatting of Integers\n",
    "String1 = \"{0:b}\".format(16)\n",
    "print(\"\\nBinary representation of 16 is \")\n",
    "print(String1)\n",
    "# Formatting of Floats\n",
    "String1 = \"{0:e}\".format(165.6458)\n",
    "print(\"\\nExponent representation of 165.6458 is \")\n",
    "print(String1)\n",
    "# Rounding off Integers\n",
    "String1 = \"{0:.2f}\".format(1/6)\n",
    "print(\"\\none-sixth is : \")\n",
    "print(String1)\n"
   ]
  },
  {
   "cell_type": "code",
   "execution_count": 174,
   "id": "29243ecb",
   "metadata": {},
   "outputs": [
    {
     "name": "stdout",
     "output_type": "stream",
     "text": [
      "\n",
      "Left, center and right alignment with Formatting: \n",
      "|Geeks     |        for         |     Geeks|\n",
      "\n",
      "left,centre and right alignment with formatting: \n",
      "|Geeks               |        for         |               Geeks|\n",
      "\n",
      " GeeksforGeeks   was founded in 2009!\n"
     ]
    }
   ],
   "source": [
    "# String alignment\n",
    "String1 = \"|{:<10}|{:^20}|{:>10}|\".format('Geeks',\n",
    "                                          'for', \n",
    "                                          'Geeks')\n",
    "print(\"\\nLeft, center and right alignment with Formatting: \")\n",
    "print(String1)\n",
    "String2 = \"|{:<20}|{:^20}|{:>20}|\".format('Geeks',\n",
    "                                          'for', \n",
    "                                          'Geeks')\n",
    "print(\"\\nleft,centre and right alignment with formatting: \")\n",
    "print(String2)\n",
    "\n",
    "# To demonstrate aligning of spaces\n",
    "String1 = \"\\n{0:^16} was founded in {1:<4}!\".format(\"GeeksforGeeks\",\n",
    "                                                    2009)\n",
    "print(String1)"
   ]
  },
  {
   "cell_type": "code",
   "execution_count": 192,
   "id": "e6deabae",
   "metadata": {},
   "outputs": [
    {
     "name": "stdout",
     "output_type": "stream",
     "text": [
      "gEEKS FOR GEEKS\n",
      "Geeks for eeeks\n",
      "10\n",
      "GEEKS FOR EEEKS\n"
     ]
    }
   ],
   "source": [
    "str=\"Geeks for geeks\"\n",
    "print(str.swapcase())\n",
    "str=\"Geeks for geeks\"\n",
    "print(str.replace('g','e'))\n",
    "str=\"Geeks for geeks\"\n",
    "print(str.index('geeks'))\n",
    "str=\"Geeks for eeeks\"\n",
    "str1=str.upper()\n",
    "print(str1)\n",
    "\n",
    "\n"
   ]
  },
  {
   "cell_type": "code",
   "execution_count": 197,
   "id": "822a4f58",
   "metadata": {},
   "outputs": [
    {
     "name": "stdout",
     "output_type": "stream",
     "text": [
      "wvoemZlH2G\n"
     ]
    }
   ],
   "source": [
    "import random \n",
    "    \n",
    "# Importing string library function \n",
    "import string \n",
    "    \n",
    "def rand_pass(size): \n",
    "        \n",
    "    # Takes random choices from \n",
    "    # ascii_letters and digits \n",
    "    generate_pass = ''.join([random.choice( string.ascii_uppercase + \n",
    "                                            string.ascii_lowercase + \n",
    "                                            string.digits) \n",
    "                                            for n in range(size)]) \n",
    "                            \n",
    "    return generate_pass \n",
    "    \n",
    "# Driver Code  \n",
    "password = rand_pass(10) \n",
    "print(password) "
   ]
  },
  {
   "cell_type": "code",
   "execution_count": 206,
   "id": "5a831304",
   "metadata": {},
   "outputs": [
    {
     "name": "stdout",
     "output_type": "stream",
     "text": [
      "\n",
      "Print in octal: \n",
      "Hello\n",
      "To print raw string\n",
      "This is \\110\\145\\154\\154\\157\n",
      "\n",
      "Printing in HEX with the use of Escape Sequences: \n",
      "This is Geeks in HEX\n",
      "\n",
      "Printing Raw String in HEX Format: \n",
      "This is \\x47\\x65\\x65\\x6b\\x73 in \\x48\\x45\\x58\n"
     ]
    }
   ],
   "source": [
    "# Printing hello in octal\n",
    "String1 =\"\\110\\145\\154\\154\\157\"\n",
    "print(\"\\nPrint in octal: \")\n",
    "print(String1)\n",
    "# Using raw String to\n",
    "# ignore Escape Sequences\n",
    "String1 = r\"This is \\110\\145\\154\\154\\157\"\n",
    "print(\"To print raw string\")\n",
    "print(String1)\n",
    "# Printing Geeks in HEX\n",
    "String1 = \"This is \\x47\\x65\\x65\\x6b\\x73 in \\x48\\x45\\x58\"\n",
    "print(\"\\nPrinting in HEX with the use of Escape Sequences: \")\n",
    "print(String1)\n",
    "# Using raw String to\n",
    "# ignore Escape Sequences\n",
    "String1 = r\"This is \\x47\\x65\\x65\\x6b\\x73 in \\x48\\x45\\x58\"\n",
    "print(\"\\nPrinting Raw String in HEX Format: \")\n",
    "print(String1)"
   ]
  },
  {
   "cell_type": "code",
   "execution_count": 217,
   "id": "01b05bbc",
   "metadata": {},
   "outputs": [
    {
     "name": "stdout",
     "output_type": "stream",
     "text": [
      "N\n",
      "N\n"
     ]
    }
   ],
   "source": [
    "# Python code to demonstrate working of\n",
    "# isupper() and islower()\n",
    "str = \"GeeksforgeekS\"\n",
    "str1 = \"GEEKS\"\n",
    "\n",
    "# checking if all characters in str are upper cased\n",
    "if str.isupper() :\n",
    "\tprint(\"Y\")\n",
    "else:\n",
    "    print(\"N\")\n",
    "\n",
    "\n",
    "# checking if all characters in str1 are lower cased\n",
    "if str1.islower() :\n",
    "\tprint(\"Y\")\n",
    "else:\n",
    "    print(\"N\")\n"
   ]
  },
  {
   "cell_type": "code",
   "execution_count": 236,
   "id": "6a189d65",
   "metadata": {},
   "outputs": [
    {
     "name": "stdout",
     "output_type": "stream",
     "text": [
      "GEEKS   FOR     GEEKS   GEEKS\n",
      "GEEKS FOR GEEKS GEEKS\n",
      "GEEKS     FOR  GEEKS     GEEKS\n"
     ]
    }
   ],
   "source": [
    "# Python code to illustrate expandtabs()\n",
    "string = 'GEEKS\\tFOR\\tGEEKS\\tGEEKS'\n",
    "  \n",
    "# No parameters, by default size is 8\n",
    "print (string.expandtabs())\n",
    "  \n",
    "# tab size taken as 2\n",
    "print(string.expandtabs(2))\n",
    "  \n",
    "# tab size taken as 5\n",
    "print(string.expandtabs(5))"
   ]
  },
  {
   "cell_type": "code",
   "execution_count": 251,
   "id": "708e768d",
   "metadata": {},
   "outputs": [
    {
     "name": "stdout",
     "output_type": "stream",
     "text": [
      "18934 days, 0:00:00 days\n"
     ]
    }
   ],
   "source": [
    "from datetime import date\n",
    "\n",
    "def Numofdays(date1,date2):\n",
    "    return (date2-date1)\n",
    "date1=date(1970, 4, 21)\n",
    "date2=date(2022, 2, 21)\n",
    "print(Numofdays(date1,date2), \"days\")"
   ]
  },
  {
   "cell_type": "code",
   "execution_count": 241,
   "id": "68692572",
   "metadata": {},
   "outputs": [
    {
     "name": "stdout",
     "output_type": "stream",
     "text": [
      "74 days\n"
     ]
    }
   ],
   "source": [
    "from datetime import date\n",
    " \n",
    "def numOfDays(date1, date2):\n",
    "    return (date2-date1).days\n",
    "     \n",
    "# Driver program\n",
    "date1 = date(2018, 12, 13)\n",
    "date2 = date(2019, 2, 25)\n",
    "print(numOfDays(date1, date2), \"days\")"
   ]
  },
  {
   "cell_type": "code",
   "execution_count": 291,
   "id": "dd6a07c5",
   "metadata": {},
   "outputs": [
    {
     "name": "stdout",
     "output_type": "stream",
     "text": [
      "Malay\n",
      "yalam\n",
      "No\n"
     ]
    }
   ],
   "source": [
    "str=\"Malayyalam\"\n",
    "length=len(str)\n",
    "x=str[0:(length//2)]\n",
    "print(x)\n",
    "print(y)\n",
    "y=str[(length//2):]\n",
    "if (x==y):\n",
    "    print('Yes')\n",
    "else:\n",
    "    print('No')\n",
    "    "
   ]
  },
  {
   "cell_type": "code",
   "execution_count": 494,
   "id": "82b86190",
   "metadata": {},
   "outputs": [
    {
     "name": "stdout",
     "output_type": "stream",
     "text": [
      "['mohandas', 'karamchand', 'gandhi', 'Jawahar', 'lal', 'Nehru']\n",
      "M.K.G.J.L.Nehru\n"
     ]
    }
   ],
   "source": [
    "def name(s):\n",
    " \n",
    "    # split the string into a list\n",
    "    l = s.split()\n",
    "    new = \"\"\n",
    "    print(l)\n",
    " \n",
    "    # traverse in the list\n",
    "    for i in range(len(l)-1):\n",
    "        s = l[i]\n",
    "         \n",
    "        # adds the capital first character\n",
    "        new += (s[0].upper()+'.')\n",
    "        \n",
    "         \n",
    "    # l[-1] gives last item of list l. We\n",
    "    # use title to print first character in\n",
    "    # capital.\n",
    "    new += l[-1].title()\n",
    "     \n",
    "    return new\n",
    "s =\"mohandas karamchand gandhi Jawahar lal Nehru\"\n",
    "print(name(s))"
   ]
  },
  {
   "cell_type": "code",
   "execution_count": 331,
   "id": "64b59dd4",
   "metadata": {},
   "outputs": [
    {
     "name": "stdout",
     "output_type": "stream",
     "text": [
      "Counter({'e': 4, 'G': 2, 'k': 2, 's': 2, 'f': 1, 'o': 1, 'r': 1})\n",
      "dict_items([('G', 2), ('e', 4), ('k', 2), ('s', 2), ('f', 1), ('o', 1), ('r', 1)])\n",
      "G\n",
      "e\n",
      "k\n",
      "s\n",
      "G: 2\n",
      "e: 4\n"
     ]
    }
   ],
   "source": [
    "from collections import Counter\n",
    "def find_dup_char(input):\n",
    " \n",
    "    # now create dictionary using counter method\n",
    "    # which will have strings as key and their\n",
    "    # frequencies as value\n",
    "    WC = Counter(input)\n",
    "    print(WC)\n",
    "    print(WC.items())\n",
    " \n",
    "    # Finding no. of  occurrence of a character\n",
    "    # and get the index of it.\n",
    "    for letter, count in WC.items():\n",
    "        if (count > 1):\n",
    "            print(letter)\n",
    "    for letter, count in WC.items():\n",
    "        if (letter == \"e\"):\n",
    "            print(\"e:\",count)\n",
    "        if (letter == \"G\"):\n",
    "            print(\"G:\",count)\n",
    "        \n",
    " \n",
    "# Driver program\n",
    "if __name__ == \"__main__\":\n",
    "    input = 'GeeksforGeeks'\n",
    "    find_dup_char(input)"
   ]
  },
  {
   "cell_type": "code",
   "execution_count": 357,
   "id": "a7daef4e",
   "metadata": {
    "scrolled": true
   },
   "outputs": [
    {
     "name": "stdout",
     "output_type": "stream",
     "text": [
      "True\n"
     ]
    }
   ],
   "source": [
    "str='Kaboom'\n",
    "a=str.endswith('boom')\n",
    "print(a)"
   ]
  },
  {
   "cell_type": "code",
   "execution_count": null,
   "id": "447380a1",
   "metadata": {},
   "outputs": [],
   "source": [
    "def imgExtracter(str):\n",
    "    pat = r'www.+jpg'\n",
    "    match = re.search(pat,str)\n",
    "    if(match):\n",
    "        print(match.group())\n",
    "    else:\n",
    "        print(-1)"
   ]
  },
  {
   "cell_type": "code",
   "execution_count": 362,
   "id": "a7525d41",
   "metadata": {},
   "outputs": [
    {
     "name": "stdout",
     "output_type": "stream",
     "text": [
      "{1, 5, 7}\n"
     ]
    }
   ],
   "source": [
    "\n",
    "def intersection(list,list1):\n",
    "    return set(list).intersection(list1)\n",
    "list=[1,5,6,7,8,3,5]\n",
    "list1=[5,4,7,1]\n",
    "print(intersection(list,list1))\n"
   ]
  },
  {
   "cell_type": "code",
   "execution_count": 364,
   "id": "87b8bedd",
   "metadata": {},
   "outputs": [
    {
     "name": "stdout",
     "output_type": "stream",
     "text": [
      "[1, 5, 7, 5]\n"
     ]
    }
   ],
   "source": [
    "def intersection(list,list1):\n",
    "    temp=set(list1)\n",
    "    lst2=[value for value in list if value in temp]\n",
    "    return lst2\n",
    "list=[1,5,6,7,8,3,5]\n",
    "list1=[5,4,7,1]\n",
    "print(intersection(list,list1))\n",
    "\n"
   ]
  },
  {
   "cell_type": "code",
   "execution_count": 372,
   "id": "8a50c6a9",
   "metadata": {
    "scrolled": true
   },
   "outputs": [
    {
     "name": "stdout",
     "output_type": "stream",
     "text": [
      "[[1, 5, 6, 7, 8, 3, 5, 5, 4, 7, 1]]\n"
     ]
    }
   ],
   "source": [
    "def union(list,list1):\n",
    "    l2=[list + list1]\n",
    "    \n",
    "    return l2\n",
    "list=[1,5,6,7,8,3,5]\n",
    "list1=[5,4,7,1]\n",
    "print(union(list,list1))"
   ]
  },
  {
   "cell_type": "code",
   "execution_count": 374,
   "id": "98bc0e95",
   "metadata": {},
   "outputs": [
    {
     "name": "stdout",
     "output_type": "stream",
     "text": [
      "{1, 3, 4, 5, 6, 7, 8}\n"
     ]
    }
   ],
   "source": [
    "def union(list,list1):\n",
    "    return set(list).union(list1)\n",
    "list=[1,5,6,7,8,3,5]\n",
    "list1=[5,4,7,1]\n",
    "print(union(list,list1))"
   ]
  },
  {
   "cell_type": "code",
   "execution_count": 389,
   "id": "219849e2",
   "metadata": {},
   "outputs": [
    {
     "name": "stdout",
     "output_type": "stream",
     "text": [
      "6\n"
     ]
    }
   ],
   "source": [
    "def count(list1, l, r):\n",
    "    count = 0\n",
    "    for x in list1:\n",
    "        if (x>=l) and (x<=r):\n",
    "            count+=1\n",
    "    return count\n",
    "\n",
    "# driver code\n",
    "list1 = [10, 20, 30, 40, 50, 40, 40, 60, 70]\n",
    "l = 40\n",
    "r = 80 \n",
    "print (count(list1, l, r))\n"
   ]
  },
  {
   "cell_type": "code",
   "execution_count": 390,
   "id": "49e2cf0d",
   "metadata": {},
   "outputs": [
    {
     "name": "stdout",
     "output_type": "stream",
     "text": [
      "6\n"
     ]
    }
   ],
   "source": [
    "def count(list1, l, r):\n",
    "    \n",
    "    # Traversing the list with on line for loop \n",
    "    # check if number is in range of not\n",
    "    return sum( l <= x <= r for x in list1)\n",
    "# driver code\n",
    "list1 = [10, 20, 30, 40, 50, 40, 40, 60, 70]\n",
    "l = 40\n",
    "r = 80 \n",
    "print (count(list1, l, r))\n"
   ]
  },
  {
   "cell_type": "code",
   "execution_count": 391,
   "id": "5f881d40",
   "metadata": {
    "scrolled": true
   },
   "outputs": [
    {
     "ename": "TypeError",
     "evalue": "'list' object is not callable",
     "output_type": "error",
     "traceback": [
      "\u001b[1;31m---------------------------------------------------------------------------\u001b[0m",
      "\u001b[1;31mTypeError\u001b[0m                                 Traceback (most recent call last)",
      "Cell \u001b[1;32mIn [391], line 13\u001b[0m\n\u001b[0;32m     11\u001b[0m arr1 \u001b[38;5;241m=\u001b[39m [\u001b[38;5;241m1\u001b[39m, \u001b[38;5;241m3\u001b[39m, \u001b[38;5;241m4\u001b[39m, \u001b[38;5;241m5\u001b[39m, \u001b[38;5;241m7\u001b[39m]\n\u001b[0;32m     12\u001b[0m arr2 \u001b[38;5;241m=\u001b[39m [\u001b[38;5;241m2\u001b[39m, \u001b[38;5;241m3\u001b[39m, \u001b[38;5;241m5\u001b[39m, \u001b[38;5;241m6\u001b[39m]\n\u001b[1;32m---> 13\u001b[0m \u001b[43minterSection\u001b[49m\u001b[43m(\u001b[49m\u001b[43marr1\u001b[49m\u001b[43m,\u001b[49m\u001b[43marr2\u001b[49m\u001b[43m)\u001b[49m\n",
      "Cell \u001b[1;32mIn [391], line 6\u001b[0m, in \u001b[0;36minterSection\u001b[1;34m(arr1, arr2)\u001b[0m\n\u001b[0;32m      1\u001b[0m \u001b[38;5;28;01mdef\u001b[39;00m \u001b[38;5;21minterSection\u001b[39m(arr1,arr2):\n\u001b[0;32m      2\u001b[0m \n\u001b[0;32m      3\u001b[0m     \u001b[38;5;66;03m# filter(lambda x: x in arr1, arr2) -->\u001b[39;00m\n\u001b[0;32m      4\u001b[0m     \u001b[38;5;66;03m# filter element x from list arr2 where x\u001b[39;00m\n\u001b[0;32m      5\u001b[0m     \u001b[38;5;66;03m# also lies in arr1\u001b[39;00m\n\u001b[1;32m----> 6\u001b[0m     result \u001b[38;5;241m=\u001b[39m \u001b[38;5;28;43mlist\u001b[39;49m\u001b[43m(\u001b[49m\u001b[38;5;28;43mfilter\u001b[39;49m\u001b[43m(\u001b[49m\u001b[38;5;28;43;01mlambda\u001b[39;49;00m\u001b[43m \u001b[49m\u001b[43mx\u001b[49m\u001b[43m:\u001b[49m\u001b[43m \u001b[49m\u001b[43mx\u001b[49m\u001b[43m \u001b[49m\u001b[38;5;129;43;01min\u001b[39;49;00m\u001b[43m \u001b[49m\u001b[43marr1\u001b[49m\u001b[43m,\u001b[49m\u001b[43m \u001b[49m\u001b[43marr2\u001b[49m\u001b[43m)\u001b[49m\u001b[43m)\u001b[49m\n\u001b[0;32m      7\u001b[0m     \u001b[38;5;28mprint\u001b[39m (\u001b[38;5;124m\"\u001b[39m\u001b[38;5;124mIntersection : \u001b[39m\u001b[38;5;124m\"\u001b[39m,result)\n",
      "\u001b[1;31mTypeError\u001b[0m: 'list' object is not callable"
     ]
    }
   ],
   "source": [
    "def interSection(arr1,arr2):\n",
    "    \n",
    "\n",
    "    # filter(lambda x: x in arr1, arr2) -->\n",
    "    # filter element x from list arr2 where x\n",
    "    # also lies in arr1\n",
    "    result = list(filter(lambda x: x in arr1, arr2))\n",
    "    print (\"Intersection : \",result)\n",
    "\n",
    "# Driver program\n",
    "if __name__ == \"__main__\":\n",
    "    \n",
    "    arr1 = [1, 3, 4, 5, 7]\n",
    "    arr2 = [2, 3, 5, 6]\n",
    "    interSection(arr1,arr2)"
   ]
  },
  {
   "cell_type": "code",
   "execution_count": 495,
   "id": "0b1d355c",
   "metadata": {},
   "outputs": [
    {
     "name": "stdout",
     "output_type": "stream",
     "text": [
      "5\n"
     ]
    }
   ],
   "source": [
    "def nthFibonacci(n):\n",
    "        if (n==0):\n",
    "            return 0\n",
    "        elif (n==1):\n",
    "            return 1\n",
    "        else:\n",
    "            return nthFibonacci((n-1)) + nthFibonacci((n-2))\n",
    "print (nthFibonacci(5))"
   ]
  },
  {
   "cell_type": "code",
   "execution_count": 405,
   "id": "87828616",
   "metadata": {},
   "outputs": [
    {
     "name": "stdout",
     "output_type": "stream",
     "text": [
      "Sorted:\n",
      "[(23, 45, 20), (89, 40, 23), (25, 44, 39)]\n"
     ]
    }
   ],
   "source": [
    "def last(n):\n",
    "    return n[m]  \n",
    " \n",
    "# function to sort the tuple   \n",
    "def sort(tuples):\n",
    "\n",
    "    # We pass used defined function last\n",
    "    # as a parameter. \n",
    "    return sorted(tuples, key = last)\n",
    " \n",
    "# driver code  \n",
    "a = [(23, 45, 20), (25, 44, 39), (89, 40, 23)]\n",
    "m = 2\n",
    "print(\"Sorted:\"),\n",
    "print(sort(a))"
   ]
  },
  {
   "cell_type": "code",
   "execution_count": 426,
   "id": "d0b33057",
   "metadata": {},
   "outputs": [
    {
     "name": "stdout",
     "output_type": "stream",
     "text": [
      "773 is a prime number\n"
     ]
    }
   ],
   "source": [
    "def Prime(n):\n",
    "    for i in range (2,n-1):\n",
    "        if (n % i == 0):\n",
    "            return f\"{n} is not a prime number\"\n",
    "    return f\"{n} is a prime number\"       \n",
    "        \n",
    "print(Prime(773))"
   ]
  },
  {
   "cell_type": "code",
   "execution_count": 440,
   "id": "5feef05d",
   "metadata": {},
   "outputs": [
    {
     "name": "stdout",
     "output_type": "stream",
     "text": [
      "MalayalaM\n",
      "MalayalaM given is a palindrome\n"
     ]
    }
   ],
   "source": [
    "def Palindrome(str):\n",
    "    list=str.strip()\n",
    "    print(list)\n",
    "    if (list[::-1] == list):\n",
    "        return f\"{list} given is a palindrome\"\n",
    "    else:\n",
    "        return f\"{list} given is not a palindrome\"\n",
    "l=\"MalayalaM\"\n",
    "print(Palindrome(l))       "
   ]
  },
  {
   "cell_type": "code",
   "execution_count": 466,
   "id": "98ab8e77",
   "metadata": {},
   "outputs": [
    {
     "name": "stdout",
     "output_type": "stream",
     "text": [
      "3628800\n"
     ]
    }
   ],
   "source": [
    "def factorial(num):\n",
    "    fact=1\n",
    "    for i in range(1,num+1):\n",
    "        fact = fact * i\n",
    "    return fact\n",
    "print (factorial(100))"
   ]
  },
  {
   "cell_type": "code",
   "execution_count": 467,
   "id": "5b1521ad",
   "metadata": {},
   "outputs": [
    {
     "name": "stdout",
     "output_type": "stream",
     "text": [
      "24\n"
     ]
    }
   ],
   "source": [
    "def trailingzeroes(n):\n",
    "    i=5\n",
    "    zeroes=0\n",
    "    while (i <= n):\n",
    "        zeroes=zeroes+(n//i)\n",
    "        i=i*5\n",
    "    return zeroes\n",
    "print(trailingzeroes(100))\n",
    "    "
   ]
  },
  {
   "cell_type": "code",
   "execution_count": 471,
   "id": "f053f997",
   "metadata": {},
   "outputs": [
    {
     "ename": "TypeError",
     "evalue": "'str' object is not callable",
     "output_type": "error",
     "traceback": [
      "\u001b[1;31m---------------------------------------------------------------------------\u001b[0m",
      "\u001b[1;31mTypeError\u001b[0m                                 Traceback (most recent call last)",
      "Cell \u001b[1;32mIn [471], line 1\u001b[0m\n\u001b[1;32m----> 1\u001b[0m n \u001b[38;5;241m=\u001b[39m \u001b[38;5;28mint\u001b[39m(\u001b[38;5;28;43minput\u001b[39;49m\u001b[43m(\u001b[49m\u001b[43m)\u001b[49m)\n\u001b[0;32m      2\u001b[0m arr \u001b[38;5;241m=\u001b[39m []\n\u001b[0;32m      3\u001b[0m \u001b[38;5;28;01mfor\u001b[39;00m i \u001b[38;5;129;01min\u001b[39;00m \u001b[38;5;28mrange\u001b[39m(\u001b[38;5;241m0\u001b[39m,n):\n",
      "\u001b[1;31mTypeError\u001b[0m: 'str' object is not callable"
     ]
    }
   ],
   "source": [
    "n = int(input())\n",
    "arr = []\n",
    "for i in range(0,n):\n",
    "    temp = int(input())\n",
    "    arr.append(temp)\n",
    "    count_odd = 0\n",
    "    count_even = 0\n",
    "for i in range(0,n):\n",
    "    if(arr[i] % 2 == 1):\n",
    "        count_odd = count_odd + 1\n",
    "    else:\n",
    "        count_even = count_even + 1\n",
    "sum=count_odd + count_even\n",
    "print(sum)"
   ]
  },
  {
   "cell_type": "code",
   "execution_count": 480,
   "id": "6ef5372a",
   "metadata": {},
   "outputs": [
    {
     "name": "stdout",
     "output_type": "stream",
     "text": [
      "(2, 3)\n"
     ]
    }
   ],
   "source": [
    "def countOddEven(arr, n):\n",
    "    even=0\n",
    "    odd=0\n",
    "    for i in range(n):\n",
    "        if (i // 2 == 0):\n",
    "            even = even + 1\n",
    "        else:\n",
    "            odd = odd + 1\n",
    "    return even,odd\n",
    "arr=[1,2,3,3,4]\n",
    "n=len(arr)\n",
    "print(countOddEven(arr,n))"
   ]
  },
  {
   "cell_type": "code",
   "execution_count": 512,
   "id": "ec063e50",
   "metadata": {},
   "outputs": [],
   "source": [
    "def findPeakUtil(self,arr,low,high,n):\n",
    "        # calculating mid\n",
    "        mid=(low+high)//2\n",
    "        # if mid is last or first index with first element\n",
    "        # greater than next.\n",
    "        # Also, check if mid element is greater than mid - 1 and mid+1\n",
    "        if (mid==0 or arr[mid-1]<=arr[mid]) and (mid==n-1 or arr[mid+1]<=arr[mid] ):\n",
    "            return mid\n",
    "        # If mid is other than 0, then check if mid element is less than prev.\n",
    "        # If so, then recurse for lower half\n",
    "        elif (mid>0 and arr[mid-1]>arr[mid]):\n",
    "            return self.findPeakUtil(arr,low,mid-1,n)\n",
    "        # else recurse for the upper half\n",
    "        else :\n",
    "            return self.findPeakUtil(arr,mid+1,high,n)\n",
    "def peakElement(self,arr, n):\n",
    "    return self.findPeakUtil(arr,0,n-1,n)"
   ]
  },
  {
   "cell_type": "code",
   "execution_count": 513,
   "id": "b48c48ee",
   "metadata": {},
   "outputs": [
    {
     "data": {
      "text/plain": [
       "1"
      ]
     },
     "execution_count": 513,
     "metadata": {},
     "output_type": "execute_result"
    }
   ],
   "source": [
    "z=y.split(' ') \n",
    "len(z)"
   ]
  },
  {
   "cell_type": "code",
   "execution_count": 514,
   "id": "7ed15e41",
   "metadata": {},
   "outputs": [
    {
     "name": "stdout",
     "output_type": "stream",
     "text": [
      "[1, 3, 4, 5]\n"
     ]
    }
   ],
   "source": [
    "num_list=[1,2,3,4,5]\n",
    "num_list.remove(2)\n",
    "print(num_list)"
   ]
  },
  {
   "cell_type": "code",
   "execution_count": 517,
   "id": "a012b73f",
   "metadata": {},
   "outputs": [
    {
     "name": "stdout",
     "output_type": "stream",
     "text": [
      "{1, 2, 3, 4, 5, 6}\n"
     ]
    }
   ],
   "source": [
    "x={1,2,3,4,5}\n",
    "x.add(5)\n",
    "x.add(6)\n",
    "print(x)"
   ]
  },
  {
   "cell_type": "code",
   "execution_count": 518,
   "id": "1f94303d",
   "metadata": {},
   "outputs": [
    {
     "data": {
      "text/plain": [
       "[1, 2, 3, 1, 2, 3, 1, 2, 3]"
      ]
     },
     "execution_count": 518,
     "metadata": {},
     "output_type": "execute_result"
    }
   ],
   "source": [
    "[1,2,3]*3"
   ]
  },
  {
   "cell_type": "code",
   "execution_count": 519,
   "id": "621df05d",
   "metadata": {},
   "outputs": [
    {
     "name": "stdout",
     "output_type": "stream",
     "text": [
      "[3 4]\n"
     ]
    }
   ],
   "source": [
    "table=np.array([\n",
    "    [1,3],\n",
    "    [2,4]\n",
    "])\n",
    "print(table.max(axis=1))"
   ]
  },
  {
   "cell_type": "code",
   "execution_count": 521,
   "id": "2471378c",
   "metadata": {
    "scrolled": true
   },
   "outputs": [
    {
     "name": "stdout",
     "output_type": "stream",
     "text": [
      "<class 'type'>\n"
     ]
    }
   ],
   "source": [
    "{x : x*x for x in range(1,100)}\n"
   ]
  },
  {
   "cell_type": "code",
   "execution_count": 522,
   "id": "d278b54a",
   "metadata": {},
   "outputs": [
    {
     "data": {
      "text/plain": [
       "[2, 4, 6, 8, 10, 12, 14, 16]"
      ]
     },
     "execution_count": 522,
     "metadata": {},
     "output_type": "execute_result"
    }
   ],
   "source": [
    "[x*2 for x in range(1,n)]"
   ]
  },
  {
   "cell_type": "code",
   "execution_count": 529,
   "id": "36fb7777",
   "metadata": {},
   "outputs": [],
   "source": [
    "import pandas as pd\n",
    "import os"
   ]
  },
  {
   "cell_type": "code",
   "execution_count": 530,
   "id": "2d76666a",
   "metadata": {},
   "outputs": [
    {
     "data": {
      "text/plain": [
       "'C:\\\\Users\\\\Hello\\\\AppData\\\\Local\\\\Programs\\\\Python\\\\Python310\\\\Scripts'"
      ]
     },
     "execution_count": 530,
     "metadata": {},
     "output_type": "execute_result"
    }
   ],
   "source": [
    "pwd"
   ]
  },
  {
   "cell_type": "code",
   "execution_count": 589,
   "id": "c78029fe",
   "metadata": {},
   "outputs": [
    {
     "name": "stdout",
     "output_type": "stream",
     "text": [
      "[10, 20, 30, 40]\n"
     ]
    }
   ],
   "source": [
    "a=[10,20]\n",
    "b=a\n",
    "b+=[30,40]\n",
    "print(b)"
   ]
  },
  {
   "cell_type": "code",
   "execution_count": 596,
   "id": "41e28aa2",
   "metadata": {},
   "outputs": [
    {
     "data": {
      "text/html": [
       "<div>\n",
       "<style scoped>\n",
       "    .dataframe tbody tr th:only-of-type {\n",
       "        vertical-align: middle;\n",
       "    }\n",
       "\n",
       "    .dataframe tbody tr th {\n",
       "        vertical-align: top;\n",
       "    }\n",
       "\n",
       "    .dataframe thead th {\n",
       "        text-align: right;\n",
       "    }\n",
       "</style>\n",
       "<table border=\"1\" class=\"dataframe\">\n",
       "  <thead>\n",
       "    <tr style=\"text-align: right;\">\n",
       "      <th></th>\n",
       "      <th>category_id</th>\n",
       "      <th>views</th>\n",
       "      <th>likes</th>\n",
       "      <th>dislikes</th>\n",
       "      <th>comment_count</th>\n",
       "    </tr>\n",
       "  </thead>\n",
       "  <tbody>\n",
       "    <tr>\n",
       "      <th>count</th>\n",
       "      <td>40881.000000</td>\n",
       "      <td>4.088100e+04</td>\n",
       "      <td>4.088100e+04</td>\n",
       "      <td>4.088100e+04</td>\n",
       "      <td>4.088100e+04</td>\n",
       "    </tr>\n",
       "    <tr>\n",
       "      <th>mean</th>\n",
       "      <td>20.795553</td>\n",
       "      <td>1.147036e+06</td>\n",
       "      <td>3.958269e+04</td>\n",
       "      <td>2.009195e+03</td>\n",
       "      <td>5.042975e+03</td>\n",
       "    </tr>\n",
       "    <tr>\n",
       "      <th>std</th>\n",
       "      <td>6.775054</td>\n",
       "      <td>3.390913e+06</td>\n",
       "      <td>1.326895e+05</td>\n",
       "      <td>1.900837e+04</td>\n",
       "      <td>2.157902e+04</td>\n",
       "    </tr>\n",
       "    <tr>\n",
       "      <th>min</th>\n",
       "      <td>1.000000</td>\n",
       "      <td>7.330000e+02</td>\n",
       "      <td>0.000000e+00</td>\n",
       "      <td>0.000000e+00</td>\n",
       "      <td>0.000000e+00</td>\n",
       "    </tr>\n",
       "    <tr>\n",
       "      <th>25%</th>\n",
       "      <td>20.000000</td>\n",
       "      <td>1.439020e+05</td>\n",
       "      <td>2.191000e+03</td>\n",
       "      <td>9.900000e+01</td>\n",
       "      <td>4.170000e+02</td>\n",
       "    </tr>\n",
       "    <tr>\n",
       "      <th>50%</th>\n",
       "      <td>24.000000</td>\n",
       "      <td>3.712040e+05</td>\n",
       "      <td>8.780000e+03</td>\n",
       "      <td>3.030000e+02</td>\n",
       "      <td>1.301000e+03</td>\n",
       "    </tr>\n",
       "    <tr>\n",
       "      <th>75%</th>\n",
       "      <td>24.000000</td>\n",
       "      <td>9.633020e+05</td>\n",
       "      <td>2.871700e+04</td>\n",
       "      <td>9.500000e+02</td>\n",
       "      <td>3.713000e+03</td>\n",
       "    </tr>\n",
       "    <tr>\n",
       "      <th>max</th>\n",
       "      <td>43.000000</td>\n",
       "      <td>1.378431e+08</td>\n",
       "      <td>5.053338e+06</td>\n",
       "      <td>1.602383e+06</td>\n",
       "      <td>1.114800e+06</td>\n",
       "    </tr>\n",
       "  </tbody>\n",
       "</table>\n",
       "</div>"
      ],
      "text/plain": [
       "        category_id         views         likes      dislikes  comment_count\n",
       "count  40881.000000  4.088100e+04  4.088100e+04  4.088100e+04   4.088100e+04\n",
       "mean      20.795553  1.147036e+06  3.958269e+04  2.009195e+03   5.042975e+03\n",
       "std        6.775054  3.390913e+06  1.326895e+05  1.900837e+04   2.157902e+04\n",
       "min        1.000000  7.330000e+02  0.000000e+00  0.000000e+00   0.000000e+00\n",
       "25%       20.000000  1.439020e+05  2.191000e+03  9.900000e+01   4.170000e+02\n",
       "50%       24.000000  3.712040e+05  8.780000e+03  3.030000e+02   1.301000e+03\n",
       "75%       24.000000  9.633020e+05  2.871700e+04  9.500000e+02   3.713000e+03\n",
       "max       43.000000  1.378431e+08  5.053338e+06  1.602383e+06   1.114800e+06"
      ]
     },
     "execution_count": 596,
     "metadata": {},
     "output_type": "execute_result"
    }
   ],
   "source": [
    "df.describe()"
   ]
  },
  {
   "cell_type": "code",
   "execution_count": 592,
   "id": "088e17f8",
   "metadata": {},
   "outputs": [
    {
     "data": {
      "text/plain": [
       "733"
      ]
     },
     "execution_count": 592,
     "metadata": {},
     "output_type": "execute_result"
    }
   ],
   "source": [
    "df[\"views\"].min()"
   ]
  },
  {
   "cell_type": "code",
   "execution_count": 597,
   "id": "214accc1",
   "metadata": {},
   "outputs": [
    {
     "data": {
      "text/plain": [
       "video_id                  object\n",
       "trending_date             object\n",
       "title                     object\n",
       "channel_title             object\n",
       "category_id                int64\n",
       "publish_time              object\n",
       "tags                      object\n",
       "views                      int64\n",
       "likes                      int64\n",
       "dislikes                   int64\n",
       "comment_count              int64\n",
       "thumbnail_link            object\n",
       "comments_disabled           bool\n",
       "ratings_disabled            bool\n",
       "video_error_or_removed      bool\n",
       "description               object\n",
       "dtype: object"
      ]
     },
     "execution_count": 597,
     "metadata": {},
     "output_type": "execute_result"
    }
   ],
   "source": [
    "df.dtypes"
   ]
  },
  {
   "cell_type": "code",
   "execution_count": 598,
   "id": "ac32bd96",
   "metadata": {},
   "outputs": [
    {
     "name": "stdout",
     "output_type": "stream",
     "text": [
      "<class 'pandas.core.frame.DataFrame'>\n",
      "RangeIndex: 40881 entries, 0 to 40880\n",
      "Data columns (total 16 columns):\n",
      " #   Column                  Non-Null Count  Dtype \n",
      "---  ------                  --------------  ----- \n",
      " 0   video_id                40881 non-null  object\n",
      " 1   trending_date           40881 non-null  object\n",
      " 2   title                   40881 non-null  object\n",
      " 3   channel_title           40881 non-null  object\n",
      " 4   category_id             40881 non-null  int64 \n",
      " 5   publish_time            40881 non-null  object\n",
      " 6   tags                    40881 non-null  object\n",
      " 7   views                   40881 non-null  int64 \n",
      " 8   likes                   40881 non-null  int64 \n",
      " 9   dislikes                40881 non-null  int64 \n",
      " 10  comment_count           40881 non-null  int64 \n",
      " 11  thumbnail_link          40881 non-null  object\n",
      " 12  comments_disabled       40881 non-null  bool  \n",
      " 13  ratings_disabled        40881 non-null  bool  \n",
      " 14  video_error_or_removed  40881 non-null  bool  \n",
      " 15  description             39585 non-null  object\n",
      "dtypes: bool(3), int64(5), object(8)\n",
      "memory usage: 4.2+ MB\n"
     ]
    }
   ],
   "source": [
    "df.info()"
   ]
  },
  {
   "cell_type": "code",
   "execution_count": 618,
   "id": "4c33ee5e",
   "metadata": {},
   "outputs": [
    {
     "data": {
      "text/plain": [
       "DatetimeIndex(['2017-12-01', '2017-12-02', '2017-12-03', '2017-12-04',\n",
       "               '2017-12-05', '2017-12-06', '2017-12-07', '2017-12-08',\n",
       "               '2017-12-09', '2017-12-10', '2017-12-11', '2017-12-12',\n",
       "               '2017-12-13', '2017-12-14', '2017-12-15', '2017-12-16',\n",
       "               '2017-12-17', '2017-12-18', '2017-12-19', '2017-12-20',\n",
       "               '2017-12-21', '2017-12-22', '2017-12-23', '2017-12-24',\n",
       "               '2017-12-25', '2017-12-26', '2017-12-27', '2017-12-28',\n",
       "               '2017-12-29', '2017-12-30', '2017-12-31', '2018-01-01',\n",
       "               '2018-01-02', '2018-01-03', '2018-01-04', '2018-01-05',\n",
       "               '2018-01-06', '2018-01-07', '2018-01-08', '2018-01-09',\n",
       "               '2018-01-10', '2018-01-11', '2018-01-12', '2018-01-13',\n",
       "               '2018-01-14', '2018-01-15', '2018-01-16', '2018-01-17',\n",
       "               '2018-01-18', '2018-01-19'],\n",
       "              dtype='datetime64[ns]', freq='D')"
      ]
     },
     "execution_count": 618,
     "metadata": {},
     "output_type": "execute_result"
    }
   ],
   "source": [
    "date=pd.date_range(\"20171201\",periods = 50)\n",
    "date"
   ]
  },
  {
   "cell_type": "code",
   "execution_count": 621,
   "id": "c97f0b35",
   "metadata": {},
   "outputs": [
    {
     "data": {
      "text/plain": [
       "0    0.354512\n",
       "1    1.389558\n",
       "2    1.541312\n",
       "3   -0.610290\n",
       "4   -0.518584\n",
       "5   -0.901097\n",
       "6   -0.396313\n",
       "7    0.073908\n",
       "8   -0.838638\n",
       "9   -1.159048\n",
       "dtype: float64"
      ]
     },
     "execution_count": 621,
     "metadata": {},
     "output_type": "execute_result"
    }
   ],
   "source": [
    "long_series = pd.Series(np.random.randn(1000))\n",
    "\n",
    "long_series.head(10)"
   ]
  },
  {
   "cell_type": "code",
   "execution_count": 628,
   "id": "6f23908c",
   "metadata": {},
   "outputs": [
    {
     "data": {
      "text/plain": [
       "137843120"
      ]
     },
     "execution_count": 628,
     "metadata": {},
     "output_type": "execute_result"
    }
   ],
   "source": [
    "df[\"views\"].max()\n"
   ]
  },
  {
   "cell_type": "code",
   "execution_count": 636,
   "id": "d23983ca",
   "metadata": {},
   "outputs": [
    {
     "data": {
      "text/plain": [
       "'something'"
      ]
     },
     "execution_count": 636,
     "metadata": {},
     "output_type": "execute_result"
    }
   ],
   "source": [
    "def number_to_string(argument):\n",
    "    match argument:\n",
    "        case 0:\n",
    "            return \"zero\"\n",
    "        case 1:\n",
    "            return \"one\"\n",
    "        case 2:\n",
    "            return \"two\"\n",
    "        case default:\n",
    "            return \"something\"\n",
    "\n",
    "\n",
    "if__name__ = \"__main__\"    \n",
    "argument = 8\n",
    "number_to_string(argument)"
   ]
  },
  {
   "cell_type": "code",
   "execution_count": 6,
   "id": "da9445af",
   "metadata": {},
   "outputs": [
    {
     "name": "stdout",
     "output_type": "stream",
     "text": [
      "1 2 3 4 5\n"
     ]
    },
    {
     "ename": "ValueError",
     "evalue": "invalid literal for int() with base 10: '1 2 3 4 5'",
     "output_type": "error",
     "traceback": [
      "\u001b[1;31m---------------------------------------------------------------------------\u001b[0m",
      "\u001b[1;31mValueError\u001b[0m                                Traceback (most recent call last)",
      "Cell \u001b[1;32mIn [6], line 1\u001b[0m\n\u001b[1;32m----> 1\u001b[0m lst\u001b[38;5;241m=\u001b[39m\u001b[38;5;28;43mint\u001b[39;49m\u001b[43m(\u001b[49m\u001b[38;5;28;43minput\u001b[39;49m\u001b[43m(\u001b[49m\u001b[43m)\u001b[49m\u001b[43m)\u001b[49m\n\u001b[0;32m      2\u001b[0m a\u001b[38;5;241m=\u001b[39mlst\u001b[38;5;241m.\u001b[39msort()\n\u001b[0;32m      3\u001b[0m k\u001b[38;5;241m=\u001b[39m\u001b[38;5;28minput\u001b[39m()\n",
      "\u001b[1;31mValueError\u001b[0m: invalid literal for int() with base 10: '1 2 3 4 5'"
     ]
    }
   ],
   "source": [
    "lst=int(input())\n",
    "a=lst.sort()\n",
    "k=input()\n",
    "for i in a:\n",
    "    if i==k:\n",
    "        return i.index()\n"
   ]
  },
  {
   "cell_type": "code",
   "execution_count": 7,
   "id": "fb990166",
   "metadata": {},
   "outputs": [
    {
     "name": "stdout",
     "output_type": "stream",
     "text": [
      "{1, 2, 3, 4, '4'}\n"
     ]
    }
   ],
   "source": []
  }
 ],
 "metadata": {
  "kernelspec": {
   "display_name": "Python 3 (ipykernel)",
   "language": "python",
   "name": "python3"
  },
  "language_info": {
   "codemirror_mode": {
    "name": "ipython",
    "version": 3
   },
   "file_extension": ".py",
   "mimetype": "text/x-python",
   "name": "python",
   "nbconvert_exporter": "python",
   "pygments_lexer": "ipython3",
   "version": "3.10.8"
  }
 },
 "nbformat": 4,
 "nbformat_minor": 5
}
